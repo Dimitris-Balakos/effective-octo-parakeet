{
 "cells": [
  {
   "cell_type": "code",
   "execution_count": null,
   "metadata": {},
   "outputs": [],
   "source": [
    "import pandas as pd\n",
    "import datetime\n",
    "import numpy as np\n",
    "from pandas_datareader import data as wb\n",
    "import matplotlib.pyplot as plt\n",
    "%matplotlib inline"
   ]
  },
  {
   "cell_type": "code",
   "execution_count": null,
   "metadata": {},
   "outputs": [],
   "source": [
    "def ticker_selection(x):\n",
    "\n",
    "    tickers = []\n",
    "    i = 0\n",
    "    data = pd.DataFrame()\n",
    "    tickers.append(input(\"Please continue with ticker selection, press \\\"end\\\" to finish  \"))\n",
    "\n",
    "    while tickers[i] != \"end\":\n",
    "        i += 1\n",
    "        tickers.append(input(\"Please continue with ticker selection, type \\\"end\\\" to finish  \"))\n",
    "        \n",
    "    else:\n",
    "        print(\"Security Selection Ended\")\n",
    "        del tickers[i]\n",
    "    \n",
    "    start_date = input(\"Select Start Date yy-mm-dd \")\n",
    "    end_date = input(\"Select End Date yy-mm-dd / Type \\\"current\\\" for current \")\n",
    "    \n",
    "    if end_date == \"current\":\n",
    "        end_date = str(datetime.datetime.today())\n",
    "    \n",
    "    \n",
    "    for i in tickers:\n",
    "        \n",
    "        data[i] = wb.DataReader(i, data_source = 'yahoo', start = start_date, end = end_date)['Adj Close']\n",
    "    \n",
    "    return data\n",
    "    \n"
   ]
  },
  {
   "cell_type": "code",
   "execution_count": null,
   "metadata": {
    "scrolled": true
   },
   "outputs": [],
   "source": [
    "sec_data = ticker_selection(1)\n",
    "    \n",
    "portfolio_returns = []\n",
    "portfolio_std = []\n",
    "weights_list = []\n",
    "for i in range(1000):\n",
    "    weights = np.random.random(len(sec_data.columns))\n",
    "    weights = (weights / np.sum(weights))      \n",
    "    weights = np.round(weights,1)\n",
    "    portfolio_returns.append(np.dot(weights,np.log(sec_data/sec_data.shift(1)).mean() * 250))\n",
    "    portfolio_std.append(np.sqrt(np.dot(weights.T,np.dot(np.log(sec_data/sec_data.shift(1)).cov() * 250,weights))))\n",
    "    weights_list.append(weights)\n",
    "\n",
    "    \n",
    "portfolio_returns = np.array(portfolio_returns)\n",
    "portfolio_std = np.array(portfolio_std)\n",
    "weights_list = pd.DataFrame(weights_list)\n",
    "weights_list.columns = sec_data.columns\n",
    "\n",
    "\n",
    "portfolios = pd.DataFrame({\"Returns\" : portfolio_returns, \"Volatility\" : portfolio_std})\n",
    "portfolios = pd.concat([portfolios,weights_list], axis = 1)    \n",
    "portfolios\n",
    "   "
   ]
  },
  {
   "cell_type": "code",
   "execution_count": null,
   "metadata": {},
   "outputs": [],
   "source": [
    "plot = portfolios.plot(x = \"Volatility\", y = \"Returns\", kind = \"scatter\", figsize = (15,20))\n",
    "plt.ylabel(\"Expected Returns\")\n",
    "plt.xlabel(\"Expected Volatility\")\n",
    "    \n",
    "plt.show()   "
   ]
  },
  {
   "cell_type": "code",
   "execution_count": null,
   "metadata": {},
   "outputs": [],
   "source": [
    " \n",
    "df1 = portfolios[portfolios[\"Returns\"] == portfolios[\"Returns\"].max()]\n",
    "df2 = portfolios[portfolios[\"Returns\"] == portfolios[\"Returns\"].min()]\n",
    "df3 = portfolios[portfolios[\"Volatility\"] == portfolios[\"Volatility\"].max()]\n",
    "df4 = portfolios[portfolios[\"Volatility\"] == portfolios[\"Volatility\"].min()]\n",
    "df5 = portfolios[(portfolios['Returns']/portfolios['Volatility']) == (portfolios['Returns']/portfolios['Volatility']).max ()]\n",
    "\n",
    "df = pd.concat([pd.DataFrame(df1.iloc[0]).transpose(), pd.DataFrame(df2.iloc[0]).transpose(),pd.DataFrame(df3.iloc[0]).transpose(),pd.DataFrame(df4.iloc[0]).transpose(),pd.DataFrame(df5.iloc[0]).transpose()])\n",
    "\n",
    "extreme_portfolios = df.rename(index = {df.index[0] : \"Maximum Return Portfolio\", df.index[1] : \"Minimum Return Portfolio\" , df.index[2] : \"Maximum Volatility Portfolio\", df.index[3] : \"Minimum Volatility Portfolio\", df.index[4] : \"Maximum Sharpe\" })\n",
    "\n",
    "extreme_portfolios\n"
   ]
  }
 ],
 "metadata": {
  "kernelspec": {
   "display_name": "Python 3",
   "language": "python",
   "name": "python3"
  },
  "language_info": {
   "codemirror_mode": {
    "name": "ipython",
    "version": 3
   },
   "file_extension": ".py",
   "mimetype": "text/x-python",
   "name": "python",
   "nbconvert_exporter": "python",
   "pygments_lexer": "ipython3",
   "version": "3.7.6"
  }
 },
 "nbformat": 4,
 "nbformat_minor": 4
}
